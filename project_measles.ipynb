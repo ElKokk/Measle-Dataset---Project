{
 "cells": [
  {
   "cell_type": "markdown",
   "source": [
    "# Measles Vaccination Rates Project"
   ],
   "metadata": {
    "collapsed": false
   }
  },
  {
   "cell_type": "markdown",
   "source": [
    "This data contains the overall and measles, mumps, and rubella immunization rates for schools across the United States. Each row corresponds to one school and includes a number of variables including the latitude, longitude, name, and vaccination rates."
   ],
   "metadata": {
    "collapsed": false
   }
  },
  {
   "cell_type": "markdown",
   "source": [
    "The dataset contains the following columns:\n",
    "\n",
    "index: An identifier for each row.\n",
    "    state: The state where the school is located.\n",
    "year: The academic year for which the data was collected.\n",
    "name: The name of the school.\n",
    "type: The type of the school (e.g., public, private, charter).\n",
    "city: The city where the school is located.\n",
    "county: The county where the school is located.\n",
    "district: The district where the school is located.\n",
    "enroll: The number of students enrolled in the school.\n",
    "mmr: The MMR vaccination rate at the school.\n",
    "overall: The overall vaccination rate at the school.\n",
    "xrel, xmed, xper: These columns seem to have many missing values. Without more information about what they represent, it's difficult to know how they could be used in the analysis.\n",
    "lat, lng: The latitude and longitude of the school."
   ],
   "metadata": {
    "collapsed": false
   }
  },
  {
   "cell_type": "code",
   "execution_count": 1,
   "metadata": {
    "collapsed": true,
    "ExecuteTime": {
     "end_time": "2023-07-09T11:46:46.835962600Z",
     "start_time": "2023-07-09T11:46:46.199119800Z"
    }
   },
   "outputs": [],
   "source": [
    "import pandas as pd"
   ]
  },
  {
   "cell_type": "code",
   "execution_count": 2,
   "outputs": [],
   "source": [
    "data = pd.read_csv('measles.csv')"
   ],
   "metadata": {
    "collapsed": false,
    "ExecuteTime": {
     "end_time": "2023-07-09T11:47:06.302944800Z",
     "start_time": "2023-07-09T11:47:06.191669400Z"
    }
   }
  },
  {
   "cell_type": "code",
   "execution_count": 3,
   "outputs": [
    {
     "data": {
      "text/plain": "   index    state     year                                      name     type  \\\n0      1  Arizona  2018-19                   A J Mitchell Elementary   Public   \n1      2  Arizona  2018-19                           Academy Del Sol  Charter   \n2      3  Arizona  2018-19                    Academy Del Sol - Hope  Charter   \n3      4  Arizona  2018-19  Academy Of Mathematics And Science South  Charter   \n4      5  Arizona  2018-19                           Acclaim Academy  Charter   \n\n      city      county  district  enroll    mmr  overall xrel  xmed  xper  \\\n0  Nogales  Santa Cruz       NaN    51.0  100.0     -1.0  NaN   NaN   NaN   \n1   Tucson        Pima       NaN    22.0  100.0     -1.0  NaN   NaN   NaN   \n2   Tucson        Pima       NaN    85.0  100.0     -1.0  NaN   NaN   NaN   \n3  Phoenix    Maricopa       NaN    60.0  100.0     -1.0  NaN   NaN   NaN   \n4  Phoenix    Maricopa       NaN    43.0  100.0     -1.0  NaN  2.33  2.33   \n\n         lat         lng  \n0  31.347819 -110.938031  \n1  32.221922 -110.896103  \n2  32.130493 -111.117005  \n3  33.485447 -112.130633  \n4  33.495620 -112.224722  ",
      "text/html": "<div>\n<style scoped>\n    .dataframe tbody tr th:only-of-type {\n        vertical-align: middle;\n    }\n\n    .dataframe tbody tr th {\n        vertical-align: top;\n    }\n\n    .dataframe thead th {\n        text-align: right;\n    }\n</style>\n<table border=\"1\" class=\"dataframe\">\n  <thead>\n    <tr style=\"text-align: right;\">\n      <th></th>\n      <th>index</th>\n      <th>state</th>\n      <th>year</th>\n      <th>name</th>\n      <th>type</th>\n      <th>city</th>\n      <th>county</th>\n      <th>district</th>\n      <th>enroll</th>\n      <th>mmr</th>\n      <th>overall</th>\n      <th>xrel</th>\n      <th>xmed</th>\n      <th>xper</th>\n      <th>lat</th>\n      <th>lng</th>\n    </tr>\n  </thead>\n  <tbody>\n    <tr>\n      <th>0</th>\n      <td>1</td>\n      <td>Arizona</td>\n      <td>2018-19</td>\n      <td>A J Mitchell Elementary</td>\n      <td>Public</td>\n      <td>Nogales</td>\n      <td>Santa Cruz</td>\n      <td>NaN</td>\n      <td>51.0</td>\n      <td>100.0</td>\n      <td>-1.0</td>\n      <td>NaN</td>\n      <td>NaN</td>\n      <td>NaN</td>\n      <td>31.347819</td>\n      <td>-110.938031</td>\n    </tr>\n    <tr>\n      <th>1</th>\n      <td>2</td>\n      <td>Arizona</td>\n      <td>2018-19</td>\n      <td>Academy Del Sol</td>\n      <td>Charter</td>\n      <td>Tucson</td>\n      <td>Pima</td>\n      <td>NaN</td>\n      <td>22.0</td>\n      <td>100.0</td>\n      <td>-1.0</td>\n      <td>NaN</td>\n      <td>NaN</td>\n      <td>NaN</td>\n      <td>32.221922</td>\n      <td>-110.896103</td>\n    </tr>\n    <tr>\n      <th>2</th>\n      <td>3</td>\n      <td>Arizona</td>\n      <td>2018-19</td>\n      <td>Academy Del Sol - Hope</td>\n      <td>Charter</td>\n      <td>Tucson</td>\n      <td>Pima</td>\n      <td>NaN</td>\n      <td>85.0</td>\n      <td>100.0</td>\n      <td>-1.0</td>\n      <td>NaN</td>\n      <td>NaN</td>\n      <td>NaN</td>\n      <td>32.130493</td>\n      <td>-111.117005</td>\n    </tr>\n    <tr>\n      <th>3</th>\n      <td>4</td>\n      <td>Arizona</td>\n      <td>2018-19</td>\n      <td>Academy Of Mathematics And Science South</td>\n      <td>Charter</td>\n      <td>Phoenix</td>\n      <td>Maricopa</td>\n      <td>NaN</td>\n      <td>60.0</td>\n      <td>100.0</td>\n      <td>-1.0</td>\n      <td>NaN</td>\n      <td>NaN</td>\n      <td>NaN</td>\n      <td>33.485447</td>\n      <td>-112.130633</td>\n    </tr>\n    <tr>\n      <th>4</th>\n      <td>5</td>\n      <td>Arizona</td>\n      <td>2018-19</td>\n      <td>Acclaim Academy</td>\n      <td>Charter</td>\n      <td>Phoenix</td>\n      <td>Maricopa</td>\n      <td>NaN</td>\n      <td>43.0</td>\n      <td>100.0</td>\n      <td>-1.0</td>\n      <td>NaN</td>\n      <td>2.33</td>\n      <td>2.33</td>\n      <td>33.495620</td>\n      <td>-112.224722</td>\n    </tr>\n  </tbody>\n</table>\n</div>"
     },
     "execution_count": 3,
     "metadata": {},
     "output_type": "execute_result"
    }
   ],
   "source": [
    "data.head()"
   ],
   "metadata": {
    "collapsed": false,
    "ExecuteTime": {
     "end_time": "2023-07-09T11:47:08.790776500Z",
     "start_time": "2023-07-09T11:47:08.730864700Z"
    }
   }
  },
  {
   "cell_type": "code",
   "execution_count": 4,
   "outputs": [
    {
     "data": {
      "text/plain": "array([-1., 96., 99., ..., 10., 47.,  8.])"
     },
     "execution_count": 4,
     "metadata": {},
     "output_type": "execute_result"
    }
   ],
   "source": [
    "data['overall'].unique()"
   ],
   "metadata": {
    "collapsed": false,
    "ExecuteTime": {
     "end_time": "2023-07-09T14:47:58.147183400Z",
     "start_time": "2023-07-09T14:47:58.112086300Z"
    }
   }
  },
  {
   "cell_type": "code",
   "execution_count": 6,
   "outputs": [
    {
     "data": {
      "text/plain": "-1.00      20177\n 100.00     3172\n 98.00      2112\n 95.00      1798\n 99.00       806\n           ...  \n 74.49         1\n 70.42         1\n 77.54         1\n 70.69         1\n 8.00          1\nName: overall, Length: 2691, dtype: int64"
     },
     "execution_count": 6,
     "metadata": {},
     "output_type": "execute_result"
    }
   ],
   "source": [
    "#count how many times each unique value of the overall column appears\n",
    "data['overall'].value_counts()"
   ],
   "metadata": {
    "collapsed": false,
    "ExecuteTime": {
     "end_time": "2023-07-09T14:49:09.085433300Z",
     "start_time": "2023-07-09T14:49:09.057295700Z"
    }
   }
  },
  {
   "cell_type": "markdown",
   "source": [
    "The 'overall' vaccination rate has been set to -1 in some rows. These are the rows for which the overall vaccination rate is not yet available, and which we're trying to predict.\n",
    "\n",
    "Next, we will check how many rows have an 'overall' vaccination rate of '-1'. This will give us an idea of the amount of data we have for training our model (rows with a known overall vaccination rate) and for testing its predictions (rows with an 'overall' vaccination rate of '-1')."
   ],
   "metadata": {
    "collapsed": false
   }
  },
  {
   "cell_type": "code",
   "execution_count": 9,
   "outputs": [
    {
     "data": {
      "text/plain": "(20177, 46411, 43.474607312921506)"
     },
     "execution_count": 9,
     "metadata": {},
     "output_type": "execute_result"
    }
   ],
   "source": [
    "# Count the number of rows with 'overall' vaccination rate of -1\n",
    "missing_overall = data[data['overall'] == -1].shape[0]\n",
    "\n",
    "# Count the total number of rows\n",
    "total_rows = data.shape[0]\n",
    "\n",
    "missing_overall, total_rows, missing_overall / total_rows * 100"
   ],
   "metadata": {
    "collapsed": false,
    "ExecuteTime": {
     "end_time": "2023-07-09T17:42:39.662771400Z",
     "start_time": "2023-07-09T17:42:39.647853Z"
    }
   }
  },
  {
   "cell_type": "code",
   "execution_count": null,
   "outputs": [],
   "source": [],
   "metadata": {
    "collapsed": false
   }
  }
 ],
 "metadata": {
  "kernelspec": {
   "display_name": "Python 3",
   "language": "python",
   "name": "python3"
  },
  "language_info": {
   "codemirror_mode": {
    "name": "ipython",
    "version": 2
   },
   "file_extension": ".py",
   "mimetype": "text/x-python",
   "name": "python",
   "nbconvert_exporter": "python",
   "pygments_lexer": "ipython2",
   "version": "2.7.6"
  }
 },
 "nbformat": 4,
 "nbformat_minor": 0
}
